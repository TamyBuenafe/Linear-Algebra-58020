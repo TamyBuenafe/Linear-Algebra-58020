{
  "nbformat": 4,
  "nbformat_minor": 0,
  "metadata": {
    "colab": {
      "name": "Eigenvalue_and_Eigenvector",
      "provenance": [],
      "authorship_tag": "ABX9TyPE8Yot/vRS37/JOe+wENQX",
      "include_colab_link": true
    },
    "kernelspec": {
      "name": "python3",
      "display_name": "Python 3"
    },
    "language_info": {
      "name": "python"
    }
  },
  "cells": [
    {
      "cell_type": "markdown",
      "metadata": {
        "id": "view-in-github",
        "colab_type": "text"
      },
      "source": [
        "<a href=\"https://colab.research.google.com/github/TamyBuenafe/Linear-Algebra-58020/blob/main/Eigenvalue_and_Eigenvector.ipynb\" target=\"_parent\"><img src=\"https://colab.research.google.com/assets/colab-badge.svg\" alt=\"Open In Colab\"/></a>"
      ]
    },
    {
      "cell_type": "code",
      "metadata": {
        "colab": {
          "base_uri": "https://localhost:8080/"
        },
        "id": "SUDyKWfv3Py4",
        "outputId": "1a79dd93-2fa9-44e6-f021-0333b1cfa256"
      },
      "source": [
        "import numpy as np\n",
        "from numpy.linalg import eig\n",
        "\n",
        "A = np.array([[-12,3],[4,1]])\n",
        "print (A)\n",
        "\n",
        "inv_A = np.linalg.inv(A)\n",
        "print (inv_A)\n",
        "\n",
        "B = np.array([[0],[0]])\n",
        "print (B)\n",
        "\n",
        "X = np.dot(inv_A,B)\n",
        "print(X)\n",
        "#X = solve(A,B)\n",
        "#print (X)"
      ],
      "execution_count": 1,
      "outputs": [
        {
          "output_type": "stream",
          "name": "stdout",
          "text": [
            "[[-12   3]\n",
            " [  4   1]]\n",
            "[[-0.04166667  0.125     ]\n",
            " [ 0.16666667  0.5       ]]\n",
            "[[0]\n",
            " [0]]\n",
            "[[0.]\n",
            " [0.]]\n"
          ]
        }
      ]
    },
    {
      "cell_type": "code",
      "metadata": {
        "colab": {
          "base_uri": "https://localhost:8080/"
        },
        "id": "DnFFzz663TUM",
        "outputId": "00a0c355-97e4-41ae-f76e-4e0ce29a82ee"
      },
      "source": [
        "#Example 1\n",
        "A = np.array([[-6,3],[4,5]])\n",
        "print (A)\n",
        "\n",
        "w,v = np.linalg.eig(A)\n",
        "print (\"The eigenvalue/s is /are:\",w)\n",
        "print (\"The eigenvectors are:\",v)\n",
        "#x = v.round()\n",
        "#print (x)"
      ],
      "execution_count": 2,
      "outputs": [
        {
          "output_type": "stream",
          "name": "stdout",
          "text": [
            "[[-6  3]\n",
            " [ 4  5]]\n",
            "The eigenvalue/s is /are: [-7.  6.]\n",
            "The eigenvectors are: [[-0.9486833  -0.24253563]\n",
            " [ 0.31622777 -0.9701425 ]]\n"
          ]
        }
      ]
    },
    {
      "cell_type": "code",
      "metadata": {
        "colab": {
          "base_uri": "https://localhost:8080/"
        },
        "id": "RX6hTP4r3W49",
        "outputId": "e2823292-46a4-44fb-e49c-1b4efdee6106"
      },
      "source": [
        "#Example 2\n",
        "C = np.array ([[2,2,4],[1,3,5],[2,3,4]])\n",
        "print (C)\n",
        "\n",
        "s,t = np.linalg.eig(C)\n",
        "print (\"The eigenvalue/s is /are:\",s)\n",
        "print (\"The eigenvectors are:\",t)\n",
        "\n",
        "x = s.round()\n",
        "print (x)\n",
        "y = t.round()\n",
        "print (y)\n",
        "\n",
        "d =np.dot(C,t.round())\n",
        "print(d)"
      ],
      "execution_count": 3,
      "outputs": [
        {
          "output_type": "stream",
          "name": "stdout",
          "text": [
            "[[2 2 4]\n",
            " [1 3 5]\n",
            " [2 3 4]]\n",
            "The eigenvalue/s is /are: [ 8.80916362  0.92620912 -0.73537273]\n",
            "The eigenvectors are: [[-0.52799324 -0.77557092 -0.36272811]\n",
            " [-0.604391    0.62277013 -0.7103262 ]\n",
            " [-0.59660259 -0.10318482  0.60321224]]\n",
            "[ 9.  1. -1.]\n",
            "[[-1. -1. -0.]\n",
            " [-1.  1. -1.]\n",
            " [-1. -0.  1.]]\n",
            "[[-8.  0.  2.]\n",
            " [-9.  2.  2.]\n",
            " [-9.  1.  1.]]\n"
          ]
        }
      ]
    }
  ]
}