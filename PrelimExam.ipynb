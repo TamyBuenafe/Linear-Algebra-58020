{
  "nbformat": 4,
  "nbformat_minor": 0,
  "metadata": {
    "colab": {
      "name": "PrelimExam.ipynb",
      "provenance": [],
      "authorship_tag": "ABX9TyPmjy2ysep3p7PBp5wuYq7x",
      "include_colab_link": true
    },
    "kernelspec": {
      "name": "python3",
      "display_name": "Python 3"
    },
    "language_info": {
      "name": "python"
    }
  },
  "cells": [
    {
      "cell_type": "markdown",
      "metadata": {
        "id": "view-in-github",
        "colab_type": "text"
      },
      "source": [
        "<a href=\"https://colab.research.google.com/github/TamyBuenafe/Linear-Algebra-58020/blob/main/PrelimExam.ipynb\" target=\"_parent\"><img src=\"https://colab.research.google.com/assets/colab-badge.svg\" alt=\"Open In Colab\"/></a>"
      ]
    },
    {
      "cell_type": "markdown",
      "metadata": {
        "id": "H2Hm3t2cn35q"
      },
      "source": [
        "#PRELIM EXAM"
      ]
    },
    {
      "cell_type": "markdown",
      "metadata": {
        "id": "yFIwJMJvutnw"
      },
      "source": [
        ""
      ]
    },
    {
      "cell_type": "markdown",
      "metadata": {
        "id": "CiKVxWopvavA"
      },
      "source": [
        "Question 1. (20 points) Create a 4 x 4 matrix whose diagonal elements are all one (1's). Name it as matrix \"C\". Show your solutions using Python codes and do not forget to label them on the Text Cell.\n",
        "\n",
        "\n"
      ]
    },
    {
      "cell_type": "code",
      "metadata": {
        "colab": {
          "base_uri": "https://localhost:8080/"
        },
        "id": "Qc5EY05bn2AQ",
        "outputId": "833c5a57-375b-436a-dee5-57d18b09d113"
      },
      "source": [
        "import numpy as np\n",
        "#Create a diagonal matrix\n",
        "C = np.diagonal([[1,1,1,1],[1,1,1,1],[1,1,1,1],[1,1,1,1]])\n",
        "print (C)"
      ],
      "execution_count": null,
      "outputs": [
        {
          "output_type": "stream",
          "name": "stdout",
          "text": [
            "[1 1 1 1]\n"
          ]
        }
      ]
    },
    {
      "cell_type": "markdown",
      "metadata": {
        "id": "8jrRZ0cCvpeo"
      },
      "source": [
        "Question 2. (20 points) In relation to Question 1, show a solution that doubles all the values of each element. Show your solutions using Python codes and do not forget to label them on the Text Cell."
      ]
    },
    {
      "cell_type": "code",
      "metadata": {
        "id": "YgWyfbREn1aH",
        "colab": {
          "base_uri": "https://localhost:8080/"
        },
        "outputId": "37dc2521-b0e6-4701-c448-379cb9642d2a"
      },
      "source": [
        "output = np.square(C)\n",
        "print(output) "
      ],
      "execution_count": 6,
      "outputs": [
        {
          "output_type": "stream",
          "name": "stdout",
          "text": [
            "[1 1 1 1]\n"
          ]
        }
      ]
    },
    {
      "cell_type": "markdown",
      "metadata": {
        "id": "kopPklZuv9NH"
      },
      "source": [
        "Question 3. (10 points) Find the cross-product of matrices, A = [2,7,4] and\n",
        "\n",
        "B = [3,9,8]. Show your solutions using Python codes and do not forget to label them on the Text Cell."
      ]
    },
    {
      "cell_type": "code",
      "metadata": {
        "colab": {
          "base_uri": "https://localhost:8080/"
        },
        "id": "kCwsXCY3nh12",
        "outputId": "0b34d65c-8d45-41cd-97bb-2152cf7abfa3"
      },
      "source": [
        "import numpy as np\n",
        "a =np.array ([2,7,4]) #First Value \n",
        "b =np.array ([3,9,8]) #Second Value \n",
        "print (a)\n",
        "print (b)\n",
        "\n",
        "\n"
      ],
      "execution_count": null,
      "outputs": [
        {
          "output_type": "stream",
          "name": "stdout",
          "text": [
            "[2 7 4]\n",
            "[3 9 8]\n"
          ]
        }
      ]
    },
    {
      "cell_type": "code",
      "metadata": {
        "colab": {
          "base_uri": "https://localhost:8080/"
        },
        "id": "D6o95EZnnyzY",
        "outputId": "d8b5d84e-acb4-4288-8488-9cf8313d0b52"
      },
      "source": [
        "c = np.cross(a,b) \n",
        "print (c)"
      ],
      "execution_count": null,
      "outputs": [
        {
          "output_type": "stream",
          "name": "stdout",
          "text": [
            "[20 -4 -3]\n"
          ]
        }
      ]
    }
  ]
}