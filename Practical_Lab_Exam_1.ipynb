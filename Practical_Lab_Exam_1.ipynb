{
  "nbformat": 4,
  "nbformat_minor": 0,
  "metadata": {
    "colab": {
      "name": "Practical Lab Exam 1 ",
      "provenance": [],
      "authorship_tag": "ABX9TyMWQxpL8xzg7t3GXi8vJjTU",
      "include_colab_link": true
    },
    "kernelspec": {
      "name": "python3",
      "display_name": "Python 3"
    },
    "language_info": {
      "name": "python"
    }
  },
  "cells": [
    {
      "cell_type": "markdown",
      "metadata": {
        "id": "view-in-github",
        "colab_type": "text"
      },
      "source": [
        "<a href=\"https://colab.research.google.com/github/TamyBuenafe/Linear-Algebra-58020/blob/main/Practical_Lab_Exam_1.ipynb\" target=\"_parent\"><img src=\"https://colab.research.google.com/assets/colab-badge.svg\" alt=\"Open In Colab\"/></a>"
      ]
    },
    {
      "cell_type": "markdown",
      "metadata": {
        "id": "sX5bsozgJmXM"
      },
      "source": [
        "#Problem 1\n"
      ]
    },
    {
      "cell_type": "code",
      "metadata": {
        "id": "Pp9gI7s8VRd0"
      },
      "source": [
        "import numpy as np\n",
        "W = np.array([[1,-3],[2,-2],[3,1]])\n",
        "X = np.array([[3,2,1],[-1,2,3],[2,-1,1]])\n",
        "Y = np.array([[1,2,0],[0,-1,2]])\n",
        "Z = np.array([[0,1],[2,3]])"
      ],
      "execution_count": null,
      "outputs": []
    },
    {
      "cell_type": "code",
      "metadata": {
        "id": "_zrx0fie6bnz",
        "colab": {
          "base_uri": "https://localhost:8080/"
        },
        "outputId": "c73d9ff9-28bd-4ebf-ff77-8ab499a6ee2a"
      },
      "source": [
        "\n",
        "W = np.array([[1,-3], [2,-2], [3,1]])\n",
        "Y = np.array([[1,2,0], [0,-1,2]])\n",
        "np.dot (W,Y)"
      ],
      "execution_count": 27,
      "outputs": [
        {
          "output_type": "execute_result",
          "data": {
            "text/plain": [
              "array([[ 1,  5, -6],\n",
              "       [ 2,  6, -4],\n",
              "       [ 3,  5,  2]])"
            ]
          },
          "metadata": {},
          "execution_count": 27
        }
      ]
    },
    {
      "cell_type": "code",
      "metadata": {
        "colab": {
          "base_uri": "https://localhost:8080/"
        },
        "id": "5N5V58bdCvKi",
        "outputId": "1499745e-9b00-49d1-f184-04e6fafa40e8"
      },
      "source": [
        "#b. Z+Z\n",
        " \n",
        "Z = np.array([[0,1],[2,3]])\n",
        "Z = np.array([[0,1],[2,3]])\n",
        "print(Z+Z)"
      ],
      "execution_count": 18,
      "outputs": [
        {
          "output_type": "stream",
          "name": "stdout",
          "text": [
            "[[0 2]\n",
            " [4 6]]\n"
          ]
        }
      ]
    },
    {
      "cell_type": "code",
      "metadata": {
        "colab": {
          "base_uri": "https://localhost:8080/"
        },
        "id": "PfyBxqQWIeQi",
        "outputId": "b46abf2d-c934-4e60-f5a3-3ad7f807334d"
      },
      "source": [
        "#c. 3X\n",
        "X = np.array([[3,2,1],[-1,2,3],[2,-1,1]])\n",
        "S = 3*X\n",
        "print(S)"
      ],
      "execution_count": 36,
      "outputs": [
        {
          "output_type": "stream",
          "name": "stdout",
          "text": [
            "[[ 9  6  3]\n",
            " [-3  6  9]\n",
            " [ 6 -3  3]]\n"
          ]
        }
      ]
    },
    {
      "cell_type": "markdown",
      "metadata": {
        "id": "5IDeYugxJ9X5"
      },
      "source": [
        "#Problem 2\n"
      ]
    },
    {
      "cell_type": "code",
      "metadata": {
        "colab": {
          "base_uri": "https://localhost:8080/"
        },
        "id": "NOPrqQ6jKofj",
        "outputId": "bcc70880-410a-4af5-9f5e-6899a76bef62"
      },
      "source": [
        "#a. The product (YW)2 is not defined\n",
        "seta = np.dot(Y,W) \n",
        "print(seta)\n"
      ],
      "execution_count": 47,
      "outputs": [
        {
          "output_type": "stream",
          "name": "stdout",
          "text": [
            "[[ 5 -7]\n",
            " [ 4  4]]\n"
          ]
        }
      ]
    },
    {
      "cell_type": "code",
      "metadata": {
        "colab": {
          "base_uri": "https://localhost:8080/"
        },
        "id": "ztAMxB-RKv3C",
        "outputId": "18240088-9851-4e83-d4e6-d3323ed7b577"
      },
      "source": [
        "#b. WY – X =\n",
        "WY = np.array([[1,5,-6],[2,6,-4],[3,5,2]])\n",
        "X  = np.array([[3,2,1],[-1,2,3],[2,-1,1]])\n",
        "print(WY-X) #Therefore the statement is true \n",
        "\n"
      ],
      "execution_count": 29,
      "outputs": [
        {
          "output_type": "stream",
          "name": "stdout",
          "text": [
            "[[-2  3 -7]\n",
            " [ 3  4 -7]\n",
            " [ 1  6  1]]\n"
          ]
        }
      ]
    },
    {
      "cell_type": "markdown",
      "metadata": {
        "id": "CSmQYRD9WDFI"
      },
      "source": [
        "C.YW – Z^2"
      ]
    },
    {
      "cell_type": "code",
      "metadata": {
        "colab": {
          "base_uri": "https://localhost:8080/"
        },
        "id": "AqBA7ESjO5ck",
        "outputId": "1d109165-6f91-4008-97b4-0bc002b1f720"
      },
      "source": [
        "A = (seta)\n",
        "B = np.square(Z)\n",
        "print (A-B)"
      ],
      "execution_count": 48,
      "outputs": [
        {
          "output_type": "stream",
          "name": "stdout",
          "text": [
            "[[  5  -8]\n",
            " [-12 -77]]\n"
          ]
        }
      ]
    }
  ]
}