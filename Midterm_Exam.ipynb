{
  "nbformat": 4,
  "nbformat_minor": 0,
  "metadata": {
    "colab": {
      "name": "Midterm Exam",
      "provenance": [],
      "authorship_tag": "ABX9TyNZZ1LFpwavmLEHDBXwMBqp",
      "include_colab_link": true
    },
    "kernelspec": {
      "name": "python3",
      "display_name": "Python 3"
    },
    "language_info": {
      "name": "python"
    }
  },
  "cells": [
    {
      "cell_type": "markdown",
      "metadata": {
        "id": "view-in-github",
        "colab_type": "text"
      },
      "source": [
        "<a href=\"https://colab.research.google.com/github/TamyBuenafe/Linear-Algebra-58020/blob/main/Midterm_Exam.ipynb\" target=\"_parent\"><img src=\"https://colab.research.google.com/assets/colab-badge.svg\" alt=\"Open In Colab\"/></a>"
      ]
    },
    {
      "cell_type": "markdown",
      "metadata": {
        "id": "B9zO0EaA3E6e"
      },
      "source": [
        "Question 1. Create a Python code that displays a square matrix whose length is 5 (10 points)"
      ]
    },
    {
      "cell_type": "code",
      "metadata": {
        "colab": {
          "base_uri": "https://localhost:8080/"
        },
        "id": "0AKNauMg3Lwm",
        "outputId": "989bdbf2-74f3-444a-f97f-a384b80ee8fa"
      },
      "source": [
        "import numpy as np\n",
        "b = np.full((5,5),5)\n",
        "print(b)"
      ],
      "execution_count": 24,
      "outputs": [
        {
          "output_type": "stream",
          "name": "stdout",
          "text": [
            "[[5 5 5 5 5]\n",
            " [5 5 5 5 5]\n",
            " [5 5 5 5 5]\n",
            " [5 5 5 5 5]\n",
            " [5 5 5 5 5]]\n"
          ]
        }
      ]
    },
    {
      "cell_type": "markdown",
      "metadata": {
        "id": "HDV3iYvU3ff5"
      },
      "source": [
        "Question 2. Create a Python code that displays a square matrix whose elements below the principal diagonal are zero (10 points)\n",
        "\n"
      ]
    },
    {
      "cell_type": "code",
      "metadata": {
        "colab": {
          "base_uri": "https://localhost:8080/"
        },
        "id": "XhmUOnFt3hJe",
        "outputId": "57ab1ec3-a5ef-4976-9b04-7b941002dc9e"
      },
      "source": [
        "import numpy as np\n",
        "x = np.diag([1, 2, 3, 4 ,5])\n",
        "print(x)"
      ],
      "execution_count": 16,
      "outputs": [
        {
          "output_type": "stream",
          "name": "stdout",
          "text": [
            "[[1 0 0 0 0]\n",
            " [0 2 0 0 0]\n",
            " [0 0 3 0 0]\n",
            " [0 0 0 4 0]\n",
            " [0 0 0 0 5]]\n"
          ]
        }
      ]
    },
    {
      "cell_type": "markdown",
      "metadata": {
        "id": "e0mQm09L3hoG"
      },
      "source": [
        "Question 3. Create a Python code that displays a square matrix which is symmetrical (10 points)"
      ]
    },
    {
      "cell_type": "code",
      "metadata": {
        "id": "Q64Gi9Qt3qeG"
      },
      "source": [
        ""
      ],
      "execution_count": null,
      "outputs": []
    },
    {
      "cell_type": "markdown",
      "metadata": {
        "id": "Fgwp5JMS3sJ-"
      },
      "source": [
        "Question 4. What is the inverse of matrix C? Show your solution by python coding. (20 points)"
      ]
    },
    {
      "cell_type": "code",
      "metadata": {
        "colab": {
          "base_uri": "https://localhost:8080/"
        },
        "id": "O2icLXIs3wZF",
        "outputId": "81f4e5b0-f889-455c-f329-348ccbba7bed"
      },
      "source": [
        "C = np.array([[1,2,3],[2,3,3],[3,-4,2]])\n",
        "print(A)\n",
        "inv_C=np.linalg.inv(C)\n",
        "print(inv_C)"
      ],
      "execution_count": 4,
      "outputs": [
        {
          "output_type": "stream",
          "name": "stdout",
          "text": [
            "[[ 5  4  3]\n",
            " [10  9  4]\n",
            " [10 13 15]]\n",
            "[[-0.7826087   0.69565217  0.13043478]\n",
            " [-0.2173913   0.30434783 -0.13043478]\n",
            " [ 0.73913043 -0.43478261  0.04347826]]\n"
          ]
        }
      ]
    },
    {
      "cell_type": "markdown",
      "metadata": {
        "id": "otB52rSz30fv"
      },
      "source": [
        "Question 5. What is the determinant of the given matrix in Question 4? Show your solution by python coding. (20 points)"
      ]
    },
    {
      "cell_type": "code",
      "metadata": {
        "colab": {
          "base_uri": "https://localhost:8080/"
        },
        "id": "fBJuxGwY36E2",
        "outputId": "8b79edae-f022-4fe7-aff5-df33841b03ee"
      },
      "source": [
        "import numpy as np\n",
        "C = np.array([[1,2,3],[2,3,3],[3,-4,2]])\n",
        "print(C)\n",
        "print(np.linalg.det(C))\n",
        "print(round(np.linalg.det(C)))"
      ],
      "execution_count": 5,
      "outputs": [
        {
          "output_type": "stream",
          "name": "stdout",
          "text": [
            "[[ 1  2  3]\n",
            " [ 2  3  3]\n",
            " [ 3 -4  2]]\n",
            "-23.0\n",
            "-23\n"
          ]
        }
      ]
    },
    {
      "cell_type": "markdown",
      "metadata": {
        "id": "X2YAJ59q36h2"
      },
      "source": [
        "Question 6. Find the roots of the linear equations by showing its python codes (30 points)\n",
        "\n",
        "5X1 + 4X2 + X3 = 3.4\n",
        "\n",
        "10X1 + 9X2 + 4X3 = 8.8\n",
        "\n",
        "10X1 + 13X2 + 15X3 = 19.2"
      ]
    },
    {
      "cell_type": "code",
      "metadata": {
        "colab": {
          "base_uri": "https://localhost:8080/"
        },
        "id": "dql0097M4Gbv",
        "outputId": "3eba730d-2e3a-4774-ed6d-619ff293da01"
      },
      "source": [
        "import numpy as np\n",
        "A = np.array([[5,4,3],[10,9,4],[10,13,15]])\n",
        "print(A)\n",
        "inv_A=np.linalg.inv(A)\n",
        "print(inv_A)\n",
        "B= np.array([[3.4],[8.8],[19.2]])\n",
        "print(B)\n",
        "\n",
        "#AA^-1x = B.A^-1\n",
        "X = np.dot(inv_A,B)\n",
        "print(X)"
      ],
      "execution_count": 2,
      "outputs": [
        {
          "output_type": "stream",
          "name": "stdout",
          "text": [
            "[[ 5  4  3]\n",
            " [10  9  4]\n",
            " [10 13 15]]\n",
            "[[ 0.87368421 -0.22105263 -0.11578947]\n",
            " [-1.15789474  0.47368421  0.10526316]\n",
            " [ 0.42105263 -0.26315789  0.05263158]]\n",
            "[[ 3.4]\n",
            " [ 8.8]\n",
            " [19.2]]\n",
            "[[-1.19789474]\n",
            " [ 2.25263158]\n",
            " [ 0.12631579]]\n"
          ]
        }
      ]
    }
  ]
}